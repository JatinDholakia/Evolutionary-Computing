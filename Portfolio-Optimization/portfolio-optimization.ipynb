{
 "cells": [
  {
   "cell_type": "code",
   "execution_count": 1,
   "metadata": {},
   "outputs": [],
   "source": [
    "import numpy as np\n",
    "import pandas as pd\n",
    "import matplotlib.pyplot as plt\n",
    "import os"
   ]
  },
  {
   "cell_type": "markdown",
   "metadata": {},
   "source": [
    "## Constraints\n",
    "#### Each stock < 15% of portfolio\n",
    "#### Each industry < 40% of portfolio"
   ]
  },
  {
   "cell_type": "code",
   "execution_count": 2,
   "metadata": {},
   "outputs": [],
   "source": [
    "df = pd.read_excel('Stock_Information.xlsx',header=None)\n",
    "s1 = df.iloc[8,1:] # Stocks\n",
    "s2 = df.iloc[9,1:] # Expected Return\n",
    "s3 = df.iloc[10,1:] # Variance \n",
    "\n",
    "exp_return = np.array(s2) # Each row corresponds to a stock\n",
    "var = np.array(s3)\n",
    "corr = np.array(df.iloc[17:,1:])\n",
    "exp_return = np.squeeze(exp_return.astype('float64'))\n",
    "var = np.squeeze(var.astype('float64'))\n",
    "corr = np.squeeze(corr.astype('float64'))\n",
    "\n",
    "std_dev = np.diag(np.sqrt(var)) # Diagonal matrix of standard deviation\n",
    "cov = np.matmul(std_dev,np.matmul(corr,std_dev)) # Covariance matrix"
   ]
  },
  {
   "cell_type": "code",
   "execution_count": 3,
   "metadata": {},
   "outputs": [],
   "source": [
    "def portfolioReturn(wts,exp_return = exp_return): # Maximise\n",
    "    return np.dot(wts,exp_return)\n",
    "\n",
    "def portfolioRisk(wts,cov = cov): # Minimize (Check)\n",
    "    arr1 = arr2 = wts\n",
    "    arr1 = np.resize(arr1,(1,arr1.shape[0]))\n",
    "    arr2 = np.resize(arr2,(arr2.shape[0],1))\n",
    "    port_var = np.matmul(arr1,np.matmul(cov,arr2))\n",
    "    port_var = np.squeeze(port_var)\n",
    "    return port_var\n",
    "\n",
    "def is_dominated(c1,c2): # Returns True if c2 dominates c1\n",
    "    if(c2[0] > c1[0] and c2[1] < c1[1]):\n",
    "        return True\n",
    "    return False\n",
    "\n",
    "def satisfies_constraints(wts): # Checks for constraints mentioned in problem statement.\n",
    "    if wts is None:\n",
    "        return False\n",
    "    for i in range(len(wts)):\n",
    "        if(wts[i]>0.15 or wts[i]<0):\n",
    "            return False\n",
    "    for i in range(0,len(wts)-4,4):\n",
    "        if(wts[i]+wts[i+1]+wts[i+2]+wts[i+3]>0.4):\n",
    "            return False\n",
    "    if(sum(wts) != 1):\n",
    "        return False\n",
    "    c = compute_cost(wts)\n",
    "    if(c[1]<0):\n",
    "        return False\n",
    "    return True\n",
    "\n",
    "def compute_cost(pos):\n",
    "    return np.array([portfolioReturn(pos),portfolioRisk(pos)])\n",
    "\n",
    "def random_wts():\n",
    "    wts = None\n",
    "    while(not satisfies_constraints(wts)):\n",
    "        wts = np.random.uniform(var_min,var_max,var_dim)\n",
    "        wts = np.divide(wts,np.sum(wts))\n",
    "    return wts\n",
    "\n",
    "def nds(x,y):\n",
    "    \"\"\"\n",
    "    Function that returns pareto fronts that maximise x and minimize y. Taken from last assignment.\n",
    "    \"\"\"\n",
    "    assert len(y)==len(x)\n",
    "    ranks = np.zeros(len(y))\n",
    "    fronts = [[]]\n",
    "    while(len(y)>0):\n",
    "        indices = []\n",
    "        for i in range(len(y)):\n",
    "            flag = 0\n",
    "            for j in range(len(y)):\n",
    "                if(y[j]>y[i] and x[j]<x[i]):\n",
    "                    flag = 1\n",
    "                    break\n",
    "            if(flag==0):\n",
    "                fronts[-1].append((y[i],x[i]))\n",
    "                indices.append(i)\n",
    "        indices = sorted(indices,reverse=True)\n",
    "        for i in indices:\n",
    "            y.pop(i)\n",
    "            x.pop(i)\n",
    "        fronts.append([])\n",
    "    return fronts[:-1]\n"
   ]
  },
  {
   "cell_type": "code",
   "execution_count": 4,
   "metadata": {},
   "outputs": [],
   "source": [
    "class Particle(object): # Definition of particle\n",
    "    def __init__(self,position):\n",
    "        self.pos = position\n",
    "        self.vel = np.zeros(position.shape)\n",
    "        self.cost = self.compute_cost()\n",
    "        self.best_pos = position\n",
    "        self.best_cost = self.cost\n",
    "        \n",
    "    def compute_cost(self):\n",
    "        return np.array([portfolioReturn(self.pos),portfolioRisk(self.pos)])"
   ]
  },
  {
   "cell_type": "code",
   "execution_count": 18,
   "metadata": {},
   "outputs": [],
   "source": [
    "# Constants\n",
    "var_min = 0\n",
    "var_max = 0.15\n",
    "var_dim = 20\n",
    "\n",
    "max_iter = 100\n",
    "pop_size = 100\n",
    "w = 1 # Inertia Coefficient\n",
    "w_damp = 0.99 # Damping coefficient\n",
    "c1 = 2 # Personal Acceleration Coefficient\n",
    "c2 = 2 # Social Acceleration Coefficient\n",
    "directory = os.getcwd()\n",
    "\n",
    "particle = [0]*pop_size # Initializing particles array\n",
    "\n",
    "# Initialization\n",
    "global_best = Particle(random_wts())\n",
    "global_best.cost = np.array([np.NINF,np.inf])\n",
    "for i in range(pop_size):\n",
    "    particle[i] = Particle(random_wts())\n",
    "    if(is_dominated(global_best.cost,particle[i].cost)):\n",
    "        global_best.pos = particle[i].pos\n",
    "        global_best.cost = particle[i].cost\n",
    "\n",
    "\n",
    "\n",
    "\n",
    "# PSO iterations\n",
    "for i in range(max_iter):\n",
    "    costs = []\n",
    "    for j in range(pop_size):\n",
    "        new_vel = w*particle[j].vel + c1*np.random.rand(20)*(particle[j].best_pos - particle[j].pos) + c2*np.random.rand(20)*(global_best.pos - particle[j].pos)\n",
    "        new_pos = particle[j].pos + new_vel\n",
    "        new_pos = np.divide(new_pos,sum(new_pos)) # Normalisation\n",
    "        if(satisfies_constraints(new_pos)):\n",
    "            particle[j].vel = new_vel\n",
    "            particle[j].pos = new_pos\n",
    "            particle[j].cost = particle[j].compute_cost()\n",
    "            if(is_dominated(particle[j].best_cost,particle[j].cost)): # Paritcle j dominates its personal best\n",
    "                particle[j].best_pos = particle[j].pos\n",
    "                particle[j].best_cost = particle[j].cost\n",
    "        if(is_dominated(global_best.cost,particle[j].best_cost)): # Particle j dominates global best\n",
    "            global_best.pos = particle[j].best_pos\n",
    "            global_best.cost = particle[j].best_cost\n",
    "        costs.append(particle[j].cost)\n",
    "    # Plotting\n",
    "    if(i%5==0):\n",
    "        plt.figure()\n",
    "        y = []\n",
    "        x = []\n",
    "        for k in range(len(costs)):\n",
    "            y.append(costs[k][0])\n",
    "            x.append(costs[k][1])\n",
    "        plt.scatter(x,y,label='Other Particles')\n",
    "        bests = nds(x.copy(),y.copy())[0]\n",
    "        y_best = []\n",
    "        x_best = []\n",
    "        for k in range(len(bests)):\n",
    "            y_best.append(bests[k][0])\n",
    "            x_best.append(bests[k][1])\n",
    "        plt.scatter(x_best,y_best,color='r',label='Best particles')\n",
    "        plt.legend()\n",
    "        plt.xlabel('Risk')\n",
    "        plt.ylabel('Return (%)')\n",
    "        plt.title(\"Risk v/s Return. Iteration = \"+str(i))\n",
    "#         plt.savefig(\"{}\".format(i)+\".png\")\n",
    "        plt.close()"
   ]
  },
  {
   "cell_type": "code",
   "execution_count": 20,
   "metadata": {},
   "outputs": [
    {
     "data": {
      "text/plain": [
       "Text(0.5, 1.0, 'Risk v/s Return. Iteration = 99')"
      ]
     },
     "execution_count": 20,
     "metadata": {},
     "output_type": "execute_result"
    },
    {
     "data": {
      "image/png": "[encoded data removed]",
      "text/plain": [
       "<Figure size 432x288 with 1 Axes>"
      ]
     },
     "metadata": {
      "needs_background": "light"
     },
     "output_type": "display_data"
    }
   ],
   "source": [
    "plt.figure()\n",
    "plt.scatter(x,y,label='Other Particles')\n",
    "plt.scatter(x_best,y_best,color='r',label='Best particles')\n",
    "plt.legend()\n",
    "plt.xlabel('Risk')\n",
    "plt.ylabel('Return (%)')\n",
    "plt.title(\"Risk v/s Return. Iteration = \"+str(i))"
   ]
  },
  {
   "cell_type": "code",
   "execution_count": 25,
   "metadata": {},
   "outputs": [
    {
     "name": "stdout",
     "output_type": "stream",
     "text": [
      "One of the optimal solutions:\n",
      "Portfolio Weights in % =  [12.54281999  1.70996579  1.85738441  4.72019995  0.46593829  7.95363571\n",
      "  5.33384295 13.69431704  1.03606766  2.66582961  3.46111848  4.37506893\n",
      "  5.43596955  0.34328826  7.39701638  4.85949     0.4812174  13.81138902\n",
      "  1.00461385  6.85082672]\n",
      "Return (%) = 6.011325661709147\n",
      "Risk = 0.05125938081214806\n",
      "Do these weights satisfy the constraints - True\n"
     ]
    }
   ],
   "source": [
    "print(\"One of the optimal solutions:\")\n",
    "print(\"Portfolio Weights in % = \",100*global_best.pos)\n",
    "print(\"Return (%) =\",global_best.cost[0])\n",
    "print(\"Risk =\",global_best.cost[1])\n",
    "print(\"Do these weights satisfy the constraints -\", satisfies_constraints(global_best.pos))"
   ]
  },
  {
   "cell_type": "code",
   "execution_count": null,
   "metadata": {},
   "outputs": [],
   "source": []
  }
 ],
 "metadata": {
  "kernelspec": {
   "name": "python3",
   "display_name": "Python 3.8.5 32-bit",
   "metadata": {
    "interpreter": {
     "hash": "cdf60a6e38b624b39aaf9bced153cc96ad6de52e0b9cc43c27f97f71decfccab"
    }
   }
  },
  "language_info": {
   "codemirror_mode": {
    "name": "ipython",
    "version": 3
   },
   "file_extension": ".py",
   "mimetype": "text/x-python",
   "name": "python",
   "nbconvert_exporter": "python",
   "pygments_lexer": "ipython3",
   "version": "3.8.5-final"
  }
 },
 "nbformat": 4,
 "nbformat_minor": 2
}